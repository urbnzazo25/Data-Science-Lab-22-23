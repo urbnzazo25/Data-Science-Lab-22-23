{
 "cells": [
  {
   "cell_type": "code",
   "execution_count": 2,
   "metadata": {
    "collapsed": true
   },
   "outputs": [],
   "source": [
    "import csv\n",
    "import string\n",
    "from math import log\n",
    "import copy"
   ]
  },
  {
   "cell_type": "code",
   "execution_count": 3,
   "outputs": [],
   "source": [
    "def file_open(name: str, glt: list):\n",
    "    n = -1\n",
    "    with open(name, encoding='utf-8') as f:\n",
    "        for cols in csv.reader(f):\n",
    "            if n == -1:\n",
    "                n += 1\n",
    "                continue\n",
    "            elif cols:\n",
    "                glt.append(cols)\n",
    "                n += 1\n",
    "    return n"
   ],
   "metadata": {
    "collapsed": false
   }
  },
  {
   "cell_type": "code",
   "execution_count": 4,
   "outputs": [],
   "source": [
    "def tokenize(docs):\n",
    "    \"\"\"Compute the tokens for each document.\n",
    "    Input: a list of strings. Each item is a document to tokenize.\n",
    "    Output: a list of lists. Each item is a list containing the tokens of the\n",
    "    relative document.\n",
    "    \"\"\"\n",
    "    tokens = []\n",
    "    for doc in docs:\n",
    "        for punct in string.punctuation:\n",
    "            doc = doc.replace(punct, \" \")\n",
    "        split_doc = [token.lower() for token in doc.split(\" \") if token]\n",
    "        tokens.append(split_doc)\n",
    "    return tokens"
   ],
   "metadata": {
    "collapsed": false
   }
  },
  {
   "cell_type": "code",
   "execution_count": 5,
   "outputs": [],
   "source": [
    "def tf(token_reviews: list, tf_list: list, idf_dict: dict):\n",
    "    review = {}\n",
    "    for rev in token_reviews:\n",
    "        for tok in rev:\n",
    "            if tok not in review.keys():\n",
    "                review[tok] = 1\n",
    "            else:\n",
    "                review[tok] += 1\n",
    "            if tok not in idf_dict:\n",
    "                idf_dict[tok] = 0\n",
    "        tf_list.append(copy.deepcopy(review))\n",
    "        review.clear()"
   ],
   "metadata": {
    "collapsed": false
   }
  },
  {
   "cell_type": "code",
   "execution_count": 6,
   "outputs": [],
   "source": [
    "def idf(token_reviews: list, idf_dict: dict, n: int):\n",
    "    for tok in idf_dict.keys():\n",
    "        for rev in token_reviews:\n",
    "            if tok in rev:\n",
    "                idf_dict[tok] += 1\n",
    "    for tok, num in idf_dict.items():\n",
    "        idf_dict[tok] = log(n / num)\n",
    "    return dict(sorted(idf_dict.items(), key=lambda x: x[1], reverse=True))"
   ],
   "metadata": {
    "collapsed": false
   }
  },
  {
   "cell_type": "code",
   "execution_count": 7,
   "outputs": [],
   "source": [
    "def td_idf(td_idf_list: list, tf_list: list, idf_dict: dict):\n",
    "    td_idf_dict = {}\n",
    "    i = 0\n",
    "    for rev in tf_list:\n",
    "        for tok in rev.keys():\n",
    "            if tok in idf_dict:\n",
    "                td_idf_dict[tok] = rev[tok] * idf_dict[tok]\n",
    "        td_idf_list.append(copy.deepcopy(td_idf_dict))\n",
    "        td_idf_list[i] = dict(sorted(td_idf_dict.items(), key=lambda x: x[1], reverse=True))\n",
    "        td_idf_dict.clear()\n",
    "        i += 1"
   ],
   "metadata": {
    "collapsed": false
   }
  },
  {
   "cell_type": "code",
   "execution_count": 14,
   "outputs": [],
   "source": [
    "if __name__ == '__main__':\n",
    "    imdb = []\n",
    "    reviews = []\n",
    "    num = file_open(\"imdb\", imdb)"
   ],
   "metadata": {
    "collapsed": false
   }
  },
  {
   "cell_type": "code",
   "execution_count": 15,
   "outputs": [],
   "source": [
    "    for line in imdb:\n",
    "        reviews.append(line[0])"
   ],
   "metadata": {
    "collapsed": false
   }
  },
  {
   "cell_type": "code",
   "execution_count": 16,
   "outputs": [],
   "source": [
    "    token_reviews = tokenize(reviews)"
   ],
   "metadata": {
    "collapsed": false
   }
  },
  {
   "cell_type": "code",
   "execution_count": 17,
   "outputs": [],
   "source": [
    "    tf_list = []\n",
    "    idf_dict = {}\n",
    "    td_idf_list = []\n",
    "    tf(token_reviews, tf_list, idf_dict)"
   ],
   "metadata": {
    "collapsed": false
   }
  },
  {
   "cell_type": "code",
   "execution_count": 18,
   "outputs": [],
   "source": [
    "    idf_dict = idf(token_reviews, idf_dict, num)"
   ],
   "metadata": {
    "collapsed": false
   }
  },
  {
   "cell_type": "code",
   "execution_count": 19,
   "outputs": [
    {
     "name": "stderr",
     "output_type": "stream",
     "text": [
      "IOPub data rate exceeded.\n",
      "The notebook server will temporarily stop sending output\n",
      "to the client in order to avoid crashing it.\n",
      "To change this limit, set the config variable\n",
      "`--NotebookApp.iopub_data_rate_limit`.\n",
      "\n",
      "Current values:\n",
      "NotebookApp.iopub_data_rate_limit=1000000.0 (bytes/sec)\n",
      "NotebookApp.rate_limit_window=3.0 (secs)\n",
      "\n"
     ]
    }
   ],
   "source": [
    "    td_idf(td_idf_list, tf_list, idf_dict)\n",
    "    print(td_idf_list)"
   ],
   "metadata": {
    "collapsed": false
   }
  }
 ],
 "metadata": {
  "kernelspec": {
   "display_name": "Python 3",
   "language": "python",
   "name": "python3"
  },
  "language_info": {
   "codemirror_mode": {
    "name": "ipython",
    "version": 2
   },
   "file_extension": ".py",
   "mimetype": "text/x-python",
   "name": "python",
   "nbconvert_exporter": "python",
   "pygments_lexer": "ipython2",
   "version": "2.7.6"
  }
 },
 "nbformat": 4,
 "nbformat_minor": 0
}
